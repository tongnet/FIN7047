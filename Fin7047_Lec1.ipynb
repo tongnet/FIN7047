{
 "cells": [
  {
   "cell_type": "code",
   "execution_count": 11,
   "id": "2f21aad5",
   "metadata": {},
   "outputs": [
    {
     "name": "stdout",
     "output_type": "stream",
     "text": [
      "Day 1: Discovering Paris\n",
      "\n",
      "- Breakfast - €10: Start your day with a Parisian breakfast at a local café. Try a classic croissant or pain au chocolat.\n",
      "\n",
      "- Visit the Louvre Museum - €17: Spend your morning exploring one of the world's largest museums and a historic monument in Paris. Remember to book your tickets online to avoid long queues.\n",
      "\n",
      "- Lunch at Café Marly - €50: Enjoy a delicious lunch with a view of the Louvre Pyramid. Try the traditional French cuisine.\n",
      "\n",
      "- Seine River Cruise - €15: Take a scenic cruise along the Seine River to appreciate the beauty of Paris from a different perspective.\n",
      "\n",
      "- Dinner at Bouillon Chartier - €30: End your day with a meal at this historic restaurant, famous for its traditional French dishes.\n",
      "\n",
      "- Accommodation - €100: You can find a decent 3-star hotel in Paris for around this price.\n",
      "\n",
      "Total for Day 1: €222\n",
      "\n",
      "Day 2: Historic Paris\n",
      "\n",
      "- Breakfast - €10: Enjoy a Parisian breakfast at a local bakery. Try a baguette or brioche.\n",
      "\n",
      "- Visit Notre Dame Cathedral - Free: Explore this iconic cathedral, a masterpiece of French Gothic architecture. Although it's currently under renovation due to the 2019 fire, you can still admire it from the outside.\n",
      "\n",
      "- Lunch at Le Petit Châtelet - €40: A cosy restaurant located near Notre-Dame offering traditional French dishes.\n",
      "\n",
      "- Visit the Sainte-Chapelle - €11.50: This stunning chapel is known for its magnificent stained glass windows.\n",
      "\n",
      "- Visit the Conciergerie - €9.50: This former royal palace and prison is where Marie Antoinette was imprisoned before her execution.\n",
      "\n",
      "- Dinner at Chez L'Ami Jean - €50: This popular Basque restaurant is known for its hearty dishes.\n",
      "\n",
      "- Accommodation - €100: The cost remains consistent across the days.\n",
      "\n",
      "Total for Day 2: €221\n",
      "\n",
      "Day 3: Modern Paris\n",
      "\n",
      "- Breakfast - €10: Start your day with a breakfast pastry from a local bakery.\n",
      "\n",
      "- Visit the Eiffel Tower - €25.90: Ascend the Eiffel Tower to enjoy panoramic views of the city.\n",
      "\n",
      "- Lunch at 58 Tour Eiffel - €42: Enjoy lunch with a view at this restaurant located on the first floor of the Eiffel Tower.\n",
      "\n",
      "- Visit the Champs-Elysées and the Arc de Triomphe - €13: Take a leisurely stroll down this famous avenue and visit the iconic monument. Remember that climbing the Arc de Triomphe is included in the entrance fee.\n",
      "\n",
      "- Dinner at Le Relais de l'Entrecôte - €40: Famous for its steak frites, this Parisian restaurant is a great place to end your trip.\n",
      "\n",
      "- Accommodation - €100: The cost remains consistent across the days.\n",
      "\n",
      "Total for Day 3: €230.90\n",
      "\n",
      "Total for 3 Days: €673.90\n",
      "\n",
      "Remember, these are estimated costs and actual prices may vary. Also, consider setting aside some budget for souvenirs, tips or unexpected expenses. Enjoy your trip to Paris!\n"
     ]
    }
   ],
   "source": [
    "import openai\n",
    "openai.api_key = \"\"\n",
    "# Replace with your OpenAI API key\n",
    "\n",
    "def generate_paris_itinerary(days=3, budget_per_day=250):\n",
    "    # Construct the prompt\n",
    "    prompt = f\"\"\"\n",
    "    Generate a detailed {days}-day travel itinerary for Paris with daily activities and an estimated budget. \n",
    "    The budget per day is €{budget_per_day}. Include attractions, dining suggestions, and a breakdown of costs.\n",
    "    \"\"\"\n",
    "\n",
    "    # Call OpenAI's GPT model\n",
    "    response = openai.ChatCompletion.create(\n",
    "        model=\"gpt-4\",  # Use \"gpt-3.5-turbo\" for lower cost\n",
    "        messages=[\n",
    "            {\"role\": \"system\", \"content\": \"You are a helpful travel assistant.\"},\n",
    "            {\"role\": \"user\", \"content\": prompt}\n",
    "        ],\n",
    "        max_tokens=1000,\n",
    "        temperature=0.7\n",
    "    )\n",
    "\n",
    "    # Extract and return the generated text\n",
    "    return response['choices'][0]['message']['content'].strip()\n",
    "\n",
    "# Generate and print the itinerary\n",
    "itinerary = generate_paris_itinerary(days=3, budget_per_day=250)\n",
    "print(itinerary)\n"
   ]
  },
  {
   "cell_type": "code",
   "execution_count": 12,
   "id": "b203ce82",
   "metadata": {},
   "outputs": [
    {
     "data": {
      "image/png": "[encoded data removed]",
      "text/plain": [
       "<Figure size 864x576 with 1 Axes>"
      ]
     },
     "metadata": {
      "needs_background": "light"
     },
     "output_type": "display_data"
    }
   ],
   "source": [
    "import matplotlib.pyplot as plt\n",
    "from matplotlib.patches import FancyArrowPatch, Rectangle\n",
    "\n",
    "# Create a figure and axis\n",
    "fig, ax = plt.subplots(figsize=(12, 8))\n",
    "\n",
    "# Draw the boxes and circles in three columns\n",
    "ax.text(0.2, 0.9, 'Bank', fontsize=14, ha='center', va='center', bbox=dict(facecolor='white', edgecolor='black'))\n",
    "ax.text(0.5, 0.9, 'Insurer', fontsize=14, ha='center', va='center', bbox=dict(facecolor='white', edgecolor='black'))\n",
    "ax.text(0.8, 0.9, 'Asset\\nManager', fontsize=14, ha='center', va='center', bbox=dict(facecolor='white', edgecolor='black'))\n",
    "\n",
    "# Draw the customer circles in three columns\n",
    "ax.text(0.2, 0.5, 'Customer', fontsize=12, ha='center', va='center', bbox=dict(facecolor='white', edgecolor='black'))\n",
    "ax.text(0.5, 0.5, 'Customer', fontsize=12, ha='center', va='center', bbox=dict(facecolor='white', edgecolor='black'))\n",
    "ax.text(0.8, 0.5, 'Customer', fontsize=12, ha='center', va='center', bbox=dict(facecolor='white', edgecolor='black'))\n",
    "\n",
    "# Draw the arrows (top to bottom to represent the transactions)\n",
    "arrowprops = dict(facecolor='black', arrowstyle='-|>', lw=1.5, mutation_scale=20)\n",
    "\n",
    "# Bank to Customer (left column, two arrows)\n",
    "ax.add_patch(FancyArrowPatch((0.15, 0.83), (0.15, 0.53), **arrowprops))\n",
    "ax.add_patch(FancyArrowPatch((0.25, 0.53), (0.25, 0.83), **arrowprops))\n",
    "ax.text(0.14, 0.7, 'Loan', fontsize=10, ha='right', va='center')\n",
    "ax.text(0.26, 0.7, 'Interest', fontsize=10, ha='left', va='center')\n",
    "\n",
    "# Insurer to Customer (middle column, two arrows)\n",
    "ax.add_patch(FancyArrowPatch((0.45, 0.83), (0.45, 0.53), **arrowprops))\n",
    "ax.add_patch(FancyArrowPatch((0.55, 0.53), (0.55, 0.83), **arrowprops))\n",
    "ax.text(0.44, 0.7, 'Policy', fontsize=10, ha='right', va='center')\n",
    "ax.text(0.56, 0.7, 'Premium', fontsize=10, ha='left', va='center')\n",
    "\n",
    "# Asset Manager to Customer (right column)\n",
    "ax.add_patch(FancyArrowPatch((0.75, 0.83), (0.75, 0.53), **arrowprops))\n",
    "ax.add_patch(FancyArrowPatch((0.85, 0.53), (0.85, 0.83), **arrowprops))\n",
    "ax.text(0.74, 0.7, 'Investment', fontsize=10, ha='right', va='center')\n",
    "ax.text(0.89, 0.7, 'Fee', fontsize=10, ha='right', va='center')\n",
    "\n",
    "# Set limits and remove axes\n",
    "ax.set_xlim(0, 1)\n",
    "ax.set_ylim(0, 1)\n",
    "ax.axis('off')\n",
    "\n",
    "# Show the plot\n",
    "plt.show()\n",
    "\n"
   ]
  }
 ],
 "metadata": {
  "kernelspec": {
   "display_name": "Python 3",
   "language": "python",
   "name": "python3"
  },
  "language_info": {
   "codemirror_mode": {
    "name": "ipython",
    "version": 3
   },
   "file_extension": ".py",
   "mimetype": "text/x-python",
   "name": "python",
   "nbconvert_exporter": "python",
   "pygments_lexer": "ipython3",
   "version": "3.8.8"
  }
 },
 "nbformat": 4,
 "nbformat_minor": 5
}
